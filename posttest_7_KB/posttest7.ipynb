{
  "nbformat": 4,
  "nbformat_minor": 0,
  "metadata": {
    "colab": {
      "provenance": [],
      "gpuType": "T4"
    },
    "kernelspec": {
      "name": "python3",
      "display_name": "Python 3"
    },
    "language_info": {
      "name": "python"
    },
    "accelerator": "GPU"
  },
  "cells": [
    {
      "cell_type": "markdown",
      "source": [
        "dataset : https://www.kaggle.com/datasets/muratkokludataset/grapevine-leaves-image-dataset"
      ],
      "metadata": {
        "id": "3ah_fA8P5nqD"
      }
    },
    {
      "cell_type": "markdown",
      "source": [
        "Nama: Muhammad Rifan Fathoni\n",
        "NIM:2209106003\n",
        "Kelas:A1'22"
      ],
      "metadata": {
        "id": "T5gb1rfj5zik"
      }
    },
    {
      "cell_type": "markdown",
      "source": [
        "#Import dataset"
      ],
      "metadata": {
        "id": "QkNusUvN6OIn"
      }
    },
    {
      "cell_type": "code",
      "source": [
        "import pandas as pd\n",
        "import numpy as np\n",
        "import seaborn as sns\n",
        "import tensorflow as tf\n",
        "from tensorflow.keras.preprocessing.image import ImageDataGenerator\n",
        "from tensorflow.keras.layers import Dense, Dropout, Flatten, Conv2D, MaxPool2D\n",
        "from tensorflow.keras import Input, Sequential\n",
        "from tensorflow.keras.optimizers import Adam\n",
        "from tensorflow.keras.losses import SparseCategoricalCrossentropy\n",
        "import os\n",
        "import pathlib\n",
        "import matplotlib.pyplot as plt"
      ],
      "metadata": {
        "id": "AYsrxVLD6bvT"
      },
      "execution_count": 15,
      "outputs": []
    },
    {
      "cell_type": "markdown",
      "source": [
        "#unzip file dataset"
      ],
      "metadata": {
        "id": "_-e9YN667Gvt"
      }
    },
    {
      "cell_type": "code",
      "source": [
        "!unzip 'dataset'"
      ],
      "metadata": {
        "id": "pa9uEaa77K3w",
        "colab": {
          "base_uri": "https://localhost:8080/"
        },
        "outputId": "ecbba550-0e3d-480c-d362-b0bbbe8a03ce"
      },
      "execution_count": 16,
      "outputs": [
        {
          "output_type": "stream",
          "name": "stdout",
          "text": [
            "Archive:  dataset.zip\n",
            "  inflating: Grapevine_Leaves_Image_Dataset/Ak/Ak (1).png  \n",
            "  inflating: Grapevine_Leaves_Image_Dataset/Ak/Ak (10).png  \n",
            "  inflating: Grapevine_Leaves_Image_Dataset/Ak/Ak (100).png  \n",
            "  inflating: Grapevine_Leaves_Image_Dataset/Ak/Ak (11).png  \n",
            "  inflating: Grapevine_Leaves_Image_Dataset/Ak/Ak (12).png  \n",
            "  inflating: Grapevine_Leaves_Image_Dataset/Ak/Ak (13).png  \n",
            "  inflating: Grapevine_Leaves_Image_Dataset/Ak/Ak (14).png  \n",
            "  inflating: Grapevine_Leaves_Image_Dataset/Ak/Ak (15).png  \n",
            "  inflating: Grapevine_Leaves_Image_Dataset/Ak/Ak (16).png  \n",
            "  inflating: Grapevine_Leaves_Image_Dataset/Ak/Ak (17).png  \n",
            "  inflating: Grapevine_Leaves_Image_Dataset/Ak/Ak (18).png  \n",
            "  inflating: Grapevine_Leaves_Image_Dataset/Ak/Ak (19).png  \n",
            "  inflating: Grapevine_Leaves_Image_Dataset/Ak/Ak (2).png  \n",
            "  inflating: Grapevine_Leaves_Image_Dataset/Ak/Ak (20).png  \n",
            "  inflating: Grapevine_Leaves_Image_Dataset/Ak/Ak (21).png  \n",
            "  inflating: Grapevine_Leaves_Image_Dataset/Ak/Ak (22).png  \n",
            "  inflating: Grapevine_Leaves_Image_Dataset/Ak/Ak (23).png  \n",
            "  inflating: Grapevine_Leaves_Image_Dataset/Ak/Ak (24).png  \n",
            "  inflating: Grapevine_Leaves_Image_Dataset/Ak/Ak (25).png  \n",
            "  inflating: Grapevine_Leaves_Image_Dataset/Ak/Ak (26).png  \n",
            "  inflating: Grapevine_Leaves_Image_Dataset/Ak/Ak (27).png  \n",
            "  inflating: Grapevine_Leaves_Image_Dataset/Ak/Ak (28).png  \n",
            "  inflating: Grapevine_Leaves_Image_Dataset/Ak/Ak (29).png  \n",
            "  inflating: Grapevine_Leaves_Image_Dataset/Ak/Ak (3).png  \n",
            "  inflating: Grapevine_Leaves_Image_Dataset/Ak/Ak (30).png  \n",
            "  inflating: Grapevine_Leaves_Image_Dataset/Ak/Ak (31).png  \n",
            "  inflating: Grapevine_Leaves_Image_Dataset/Ak/Ak (32).png  \n",
            "  inflating: Grapevine_Leaves_Image_Dataset/Ak/Ak (33).png  \n",
            "  inflating: Grapevine_Leaves_Image_Dataset/Ak/Ak (34).png  \n",
            "  inflating: Grapevine_Leaves_Image_Dataset/Ak/Ak (35).png  \n",
            "  inflating: Grapevine_Leaves_Image_Dataset/Ak/Ak (36).png  \n",
            "  inflating: Grapevine_Leaves_Image_Dataset/Ak/Ak (37).png  \n",
            "  inflating: Grapevine_Leaves_Image_Dataset/Ak/Ak (38).png  \n",
            "  inflating: Grapevine_Leaves_Image_Dataset/Ak/Ak (39).png  \n",
            "  inflating: Grapevine_Leaves_Image_Dataset/Ak/Ak (4).png  \n",
            "  inflating: Grapevine_Leaves_Image_Dataset/Ak/Ak (40).png  \n",
            "  inflating: Grapevine_Leaves_Image_Dataset/Ak/Ak (41).png  \n",
            "  inflating: Grapevine_Leaves_Image_Dataset/Ak/Ak (42).png  \n",
            "  inflating: Grapevine_Leaves_Image_Dataset/Ak/Ak (43).png  \n",
            "  inflating: Grapevine_Leaves_Image_Dataset/Ak/Ak (44).png  \n",
            "  inflating: Grapevine_Leaves_Image_Dataset/Ak/Ak (45).png  \n",
            "  inflating: Grapevine_Leaves_Image_Dataset/Ak/Ak (46).png  \n",
            "  inflating: Grapevine_Leaves_Image_Dataset/Ak/Ak (47).png  \n",
            "  inflating: Grapevine_Leaves_Image_Dataset/Ak/Ak (48).png  \n",
            "  inflating: Grapevine_Leaves_Image_Dataset/Ak/Ak (49).png  \n",
            "  inflating: Grapevine_Leaves_Image_Dataset/Ak/Ak (5).png  \n",
            "  inflating: Grapevine_Leaves_Image_Dataset/Ak/Ak (50).png  \n",
            "  inflating: Grapevine_Leaves_Image_Dataset/Ak/Ak (51).png  \n",
            "  inflating: Grapevine_Leaves_Image_Dataset/Ak/Ak (52).png  \n",
            "  inflating: Grapevine_Leaves_Image_Dataset/Ak/Ak (53).png  \n",
            "  inflating: Grapevine_Leaves_Image_Dataset/Ak/Ak (54).png  \n",
            "  inflating: Grapevine_Leaves_Image_Dataset/Ak/Ak (55).png  \n",
            "  inflating: Grapevine_Leaves_Image_Dataset/Ak/Ak (56).png  \n",
            "  inflating: Grapevine_Leaves_Image_Dataset/Ak/Ak (57).png  \n",
            "  inflating: Grapevine_Leaves_Image_Dataset/Ak/Ak (58).png  \n",
            "  inflating: Grapevine_Leaves_Image_Dataset/Ak/Ak (59).png  \n",
            "  inflating: Grapevine_Leaves_Image_Dataset/Ak/Ak (6).png  \n",
            "  inflating: Grapevine_Leaves_Image_Dataset/Ak/Ak (60).png  \n",
            "  inflating: Grapevine_Leaves_Image_Dataset/Ak/Ak (61).png  \n",
            "  inflating: Grapevine_Leaves_Image_Dataset/Ak/Ak (62).png  \n",
            "  inflating: Grapevine_Leaves_Image_Dataset/Ak/Ak (63).png  \n",
            "  inflating: Grapevine_Leaves_Image_Dataset/Ak/Ak (64).png  \n",
            "  inflating: Grapevine_Leaves_Image_Dataset/Ak/Ak (65).png  \n",
            "  inflating: Grapevine_Leaves_Image_Dataset/Ak/Ak (66).png  \n",
            "  inflating: Grapevine_Leaves_Image_Dataset/Ak/Ak (67).png  \n",
            "  inflating: Grapevine_Leaves_Image_Dataset/Ak/Ak (68).png  \n",
            "  inflating: Grapevine_Leaves_Image_Dataset/Ak/Ak (69).png  \n",
            "  inflating: Grapevine_Leaves_Image_Dataset/Ak/Ak (7).png  \n",
            "  inflating: Grapevine_Leaves_Image_Dataset/Ak/Ak (70).png  \n",
            "  inflating: Grapevine_Leaves_Image_Dataset/Ak/Ak (71).png  \n",
            "  inflating: Grapevine_Leaves_Image_Dataset/Ak/Ak (72).png  \n",
            "  inflating: Grapevine_Leaves_Image_Dataset/Ak/Ak (73).png  \n",
            "  inflating: Grapevine_Leaves_Image_Dataset/Ak/Ak (74).png  \n",
            "  inflating: Grapevine_Leaves_Image_Dataset/Ak/Ak (75).png  \n",
            "  inflating: Grapevine_Leaves_Image_Dataset/Ak/Ak (76).png  \n",
            "  inflating: Grapevine_Leaves_Image_Dataset/Ak/Ak (77).png  \n",
            "  inflating: Grapevine_Leaves_Image_Dataset/Ak/Ak (78).png  \n",
            "  inflating: Grapevine_Leaves_Image_Dataset/Ak/Ak (79).png  \n",
            "  inflating: Grapevine_Leaves_Image_Dataset/Ak/Ak (8).png  \n",
            "  inflating: Grapevine_Leaves_Image_Dataset/Ak/Ak (80).png  \n",
            "  inflating: Grapevine_Leaves_Image_Dataset/Ak/Ak (81).png  \n",
            "  inflating: Grapevine_Leaves_Image_Dataset/Ak/Ak (82).png  \n",
            "  inflating: Grapevine_Leaves_Image_Dataset/Ak/Ak (83).png  \n",
            "  inflating: Grapevine_Leaves_Image_Dataset/Ak/Ak (84).png  \n",
            "  inflating: Grapevine_Leaves_Image_Dataset/Ak/Ak (85).png  \n",
            "  inflating: Grapevine_Leaves_Image_Dataset/Ak/Ak (86).png  \n",
            "  inflating: Grapevine_Leaves_Image_Dataset/Ak/Ak (87).png  \n",
            "  inflating: Grapevine_Leaves_Image_Dataset/Ak/Ak (88).png  \n",
            "  inflating: Grapevine_Leaves_Image_Dataset/Ak/Ak (89).png  \n",
            "  inflating: Grapevine_Leaves_Image_Dataset/Ak/Ak (9).png  \n",
            "  inflating: Grapevine_Leaves_Image_Dataset/Ak/Ak (90).png  \n",
            "  inflating: Grapevine_Leaves_Image_Dataset/Ak/Ak (91).png  \n",
            "  inflating: Grapevine_Leaves_Image_Dataset/Ak/Ak (92).png  \n",
            "  inflating: Grapevine_Leaves_Image_Dataset/Ak/Ak (93).png  \n",
            "  inflating: Grapevine_Leaves_Image_Dataset/Ak/Ak (94).png  \n",
            "  inflating: Grapevine_Leaves_Image_Dataset/Ak/Ak (95).png  \n",
            "  inflating: Grapevine_Leaves_Image_Dataset/Ak/Ak (96).png  \n",
            "  inflating: Grapevine_Leaves_Image_Dataset/Ak/Ak (97).png  \n",
            "  inflating: Grapevine_Leaves_Image_Dataset/Ak/Ak (98).png  \n",
            "  inflating: Grapevine_Leaves_Image_Dataset/Ak/Ak (99).png  \n",
            "  inflating: Grapevine_Leaves_Image_Dataset/Ala_Idris/Ala_Idris (1).png  \n",
            "  inflating: Grapevine_Leaves_Image_Dataset/Ala_Idris/Ala_Idris (10).png  \n",
            "  inflating: Grapevine_Leaves_Image_Dataset/Ala_Idris/Ala_Idris (100).png  \n",
            "  inflating: Grapevine_Leaves_Image_Dataset/Ala_Idris/Ala_Idris (11).png  \n",
            "  inflating: Grapevine_Leaves_Image_Dataset/Ala_Idris/Ala_Idris (12).png  \n",
            "  inflating: Grapevine_Leaves_Image_Dataset/Ala_Idris/Ala_Idris (13).png  \n",
            "  inflating: Grapevine_Leaves_Image_Dataset/Ala_Idris/Ala_Idris (14).png  \n",
            "  inflating: Grapevine_Leaves_Image_Dataset/Ala_Idris/Ala_Idris (15).png  \n",
            "  inflating: Grapevine_Leaves_Image_Dataset/Ala_Idris/Ala_Idris (16).png  \n",
            "  inflating: Grapevine_Leaves_Image_Dataset/Ala_Idris/Ala_Idris (17).png  \n",
            "  inflating: Grapevine_Leaves_Image_Dataset/Ala_Idris/Ala_Idris (18).png  \n",
            "  inflating: Grapevine_Leaves_Image_Dataset/Ala_Idris/Ala_Idris (19).png  \n",
            "  inflating: Grapevine_Leaves_Image_Dataset/Ala_Idris/Ala_Idris (2).png  \n",
            "  inflating: Grapevine_Leaves_Image_Dataset/Ala_Idris/Ala_Idris (20).png  \n",
            "  inflating: Grapevine_Leaves_Image_Dataset/Ala_Idris/Ala_Idris (21).png  \n",
            "  inflating: Grapevine_Leaves_Image_Dataset/Ala_Idris/Ala_Idris (22).png  \n",
            "  inflating: Grapevine_Leaves_Image_Dataset/Ala_Idris/Ala_Idris (23).png  \n",
            "  inflating: Grapevine_Leaves_Image_Dataset/Ala_Idris/Ala_Idris (24).png  \n",
            "  inflating: Grapevine_Leaves_Image_Dataset/Ala_Idris/Ala_Idris (25).png  \n",
            "  inflating: Grapevine_Leaves_Image_Dataset/Ala_Idris/Ala_Idris (26).png  \n",
            "  inflating: Grapevine_Leaves_Image_Dataset/Ala_Idris/Ala_Idris (27).png  \n",
            "  inflating: Grapevine_Leaves_Image_Dataset/Ala_Idris/Ala_Idris (28).png  \n",
            "  inflating: Grapevine_Leaves_Image_Dataset/Ala_Idris/Ala_Idris (29).png  \n",
            "  inflating: Grapevine_Leaves_Image_Dataset/Ala_Idris/Ala_Idris (3).png  \n",
            "  inflating: Grapevine_Leaves_Image_Dataset/Ala_Idris/Ala_Idris (30).png  \n",
            "  inflating: Grapevine_Leaves_Image_Dataset/Ala_Idris/Ala_Idris (31).png  \n",
            "  inflating: Grapevine_Leaves_Image_Dataset/Ala_Idris/Ala_Idris (32).png  \n",
            "  inflating: Grapevine_Leaves_Image_Dataset/Ala_Idris/Ala_Idris (33).png  \n",
            "  inflating: Grapevine_Leaves_Image_Dataset/Ala_Idris/Ala_Idris (34).png  \n",
            "  inflating: Grapevine_Leaves_Image_Dataset/Ala_Idris/Ala_Idris (35).png  \n",
            "  inflating: Grapevine_Leaves_Image_Dataset/Ala_Idris/Ala_Idris (36).png  \n",
            "  inflating: Grapevine_Leaves_Image_Dataset/Ala_Idris/Ala_Idris (37).png  \n",
            "  inflating: Grapevine_Leaves_Image_Dataset/Ala_Idris/Ala_Idris (38).png  \n",
            "  inflating: Grapevine_Leaves_Image_Dataset/Ala_Idris/Ala_Idris (39).png  \n",
            "  inflating: Grapevine_Leaves_Image_Dataset/Ala_Idris/Ala_Idris (4).png  \n",
            "  inflating: Grapevine_Leaves_Image_Dataset/Ala_Idris/Ala_Idris (40).png  \n",
            "  inflating: Grapevine_Leaves_Image_Dataset/Ala_Idris/Ala_Idris (41).png  \n",
            "  inflating: Grapevine_Leaves_Image_Dataset/Ala_Idris/Ala_Idris (42).png  \n",
            "  inflating: Grapevine_Leaves_Image_Dataset/Ala_Idris/Ala_Idris (43).png  \n",
            "  inflating: Grapevine_Leaves_Image_Dataset/Ala_Idris/Ala_Idris (44).png  \n",
            "  inflating: Grapevine_Leaves_Image_Dataset/Ala_Idris/Ala_Idris (45).png  \n",
            "  inflating: Grapevine_Leaves_Image_Dataset/Ala_Idris/Ala_Idris (46).png  \n",
            "  inflating: Grapevine_Leaves_Image_Dataset/Ala_Idris/Ala_Idris (47).png  \n",
            "  inflating: Grapevine_Leaves_Image_Dataset/Ala_Idris/Ala_Idris (48).png  \n",
            "  inflating: Grapevine_Leaves_Image_Dataset/Ala_Idris/Ala_Idris (49).png  \n",
            "  inflating: Grapevine_Leaves_Image_Dataset/Ala_Idris/Ala_Idris (5).png  \n",
            "  inflating: Grapevine_Leaves_Image_Dataset/Ala_Idris/Ala_Idris (50).png  \n",
            "  inflating: Grapevine_Leaves_Image_Dataset/Ala_Idris/Ala_Idris (51).png  \n",
            "  inflating: Grapevine_Leaves_Image_Dataset/Ala_Idris/Ala_Idris (52).png  \n",
            "  inflating: Grapevine_Leaves_Image_Dataset/Ala_Idris/Ala_Idris (53).png  \n",
            "  inflating: Grapevine_Leaves_Image_Dataset/Ala_Idris/Ala_Idris (54).png  \n",
            "  inflating: Grapevine_Leaves_Image_Dataset/Ala_Idris/Ala_Idris (55).png  \n",
            "  inflating: Grapevine_Leaves_Image_Dataset/Ala_Idris/Ala_Idris (56).png  \n",
            "  inflating: Grapevine_Leaves_Image_Dataset/Ala_Idris/Ala_Idris (57).png  \n",
            "  inflating: Grapevine_Leaves_Image_Dataset/Ala_Idris/Ala_Idris (58).png  \n",
            "  inflating: Grapevine_Leaves_Image_Dataset/Ala_Idris/Ala_Idris (59).png  \n",
            "  inflating: Grapevine_Leaves_Image_Dataset/Ala_Idris/Ala_Idris (6).png  \n",
            "  inflating: Grapevine_Leaves_Image_Dataset/Ala_Idris/Ala_Idris (60).png  \n",
            "  inflating: Grapevine_Leaves_Image_Dataset/Ala_Idris/Ala_Idris (61).png  \n",
            "  inflating: Grapevine_Leaves_Image_Dataset/Ala_Idris/Ala_Idris (62).png  \n",
            "  inflating: Grapevine_Leaves_Image_Dataset/Ala_Idris/Ala_Idris (63).png  \n",
            "  inflating: Grapevine_Leaves_Image_Dataset/Ala_Idris/Ala_Idris (64).png  \n",
            "  inflating: Grapevine_Leaves_Image_Dataset/Ala_Idris/Ala_Idris (65).png  \n",
            "  inflating: Grapevine_Leaves_Image_Dataset/Ala_Idris/Ala_Idris (66).png  \n",
            "  inflating: Grapevine_Leaves_Image_Dataset/Ala_Idris/Ala_Idris (67).png  \n",
            "  inflating: Grapevine_Leaves_Image_Dataset/Ala_Idris/Ala_Idris (68).png  \n",
            "  inflating: Grapevine_Leaves_Image_Dataset/Ala_Idris/Ala_Idris (69).png  \n",
            "  inflating: Grapevine_Leaves_Image_Dataset/Ala_Idris/Ala_Idris (7).png  \n",
            "  inflating: Grapevine_Leaves_Image_Dataset/Ala_Idris/Ala_Idris (70).png  \n",
            "  inflating: Grapevine_Leaves_Image_Dataset/Ala_Idris/Ala_Idris (71).png  \n",
            "  inflating: Grapevine_Leaves_Image_Dataset/Ala_Idris/Ala_Idris (72).png  \n",
            "  inflating: Grapevine_Leaves_Image_Dataset/Ala_Idris/Ala_Idris (73).png  \n",
            "  inflating: Grapevine_Leaves_Image_Dataset/Ala_Idris/Ala_Idris (74).png  \n",
            "  inflating: Grapevine_Leaves_Image_Dataset/Ala_Idris/Ala_Idris (75).png  \n",
            "  inflating: Grapevine_Leaves_Image_Dataset/Ala_Idris/Ala_Idris (76).png  \n",
            "  inflating: Grapevine_Leaves_Image_Dataset/Ala_Idris/Ala_Idris (77).png  \n",
            "  inflating: Grapevine_Leaves_Image_Dataset/Ala_Idris/Ala_Idris (78).png  \n",
            "  inflating: Grapevine_Leaves_Image_Dataset/Ala_Idris/Ala_Idris (79).png  \n",
            "  inflating: Grapevine_Leaves_Image_Dataset/Ala_Idris/Ala_Idris (8).png  \n",
            "  inflating: Grapevine_Leaves_Image_Dataset/Ala_Idris/Ala_Idris (80).png  \n",
            "  inflating: Grapevine_Leaves_Image_Dataset/Ala_Idris/Ala_Idris (81).png  \n",
            "  inflating: Grapevine_Leaves_Image_Dataset/Ala_Idris/Ala_Idris (82).png  \n",
            "  inflating: Grapevine_Leaves_Image_Dataset/Ala_Idris/Ala_Idris (83).png  \n",
            "  inflating: Grapevine_Leaves_Image_Dataset/Ala_Idris/Ala_Idris (84).png  \n",
            "  inflating: Grapevine_Leaves_Image_Dataset/Ala_Idris/Ala_Idris (85).png  \n",
            "  inflating: Grapevine_Leaves_Image_Dataset/Ala_Idris/Ala_Idris (86).png  \n",
            "  inflating: Grapevine_Leaves_Image_Dataset/Ala_Idris/Ala_Idris (87).png  \n",
            "  inflating: Grapevine_Leaves_Image_Dataset/Ala_Idris/Ala_Idris (88).png  \n",
            "  inflating: Grapevine_Leaves_Image_Dataset/Ala_Idris/Ala_Idris (89).png  \n",
            "  inflating: Grapevine_Leaves_Image_Dataset/Ala_Idris/Ala_Idris (9).png  \n",
            "  inflating: Grapevine_Leaves_Image_Dataset/Ala_Idris/Ala_Idris (90).png  \n",
            "  inflating: Grapevine_Leaves_Image_Dataset/Ala_Idris/Ala_Idris (91).png  \n",
            "  inflating: Grapevine_Leaves_Image_Dataset/Ala_Idris/Ala_Idris (92).png  \n",
            "  inflating: Grapevine_Leaves_Image_Dataset/Ala_Idris/Ala_Idris (93).png  \n",
            "  inflating: Grapevine_Leaves_Image_Dataset/Ala_Idris/Ala_Idris (94).png  \n",
            "  inflating: Grapevine_Leaves_Image_Dataset/Ala_Idris/Ala_Idris (95).png  \n",
            "  inflating: Grapevine_Leaves_Image_Dataset/Ala_Idris/Ala_Idris (96).png  \n",
            "  inflating: Grapevine_Leaves_Image_Dataset/Ala_Idris/Ala_Idris (97).png  \n",
            "  inflating: Grapevine_Leaves_Image_Dataset/Ala_Idris/Ala_Idris (98).png  \n",
            "  inflating: Grapevine_Leaves_Image_Dataset/Ala_Idris/Ala_Idris (99).png  \n",
            "  inflating: Grapevine_Leaves_Image_Dataset/Buzgulu/Buzgulu (1).png  \n",
            "  inflating: Grapevine_Leaves_Image_Dataset/Buzgulu/Buzgulu (10).png  \n",
            "  inflating: Grapevine_Leaves_Image_Dataset/Buzgulu/Buzgulu (100).png  \n",
            "  inflating: Grapevine_Leaves_Image_Dataset/Buzgulu/Buzgulu (11).png  \n",
            "  inflating: Grapevine_Leaves_Image_Dataset/Buzgulu/Buzgulu (12).png  \n",
            "  inflating: Grapevine_Leaves_Image_Dataset/Buzgulu/Buzgulu (13).png  \n",
            "  inflating: Grapevine_Leaves_Image_Dataset/Buzgulu/Buzgulu (14).png  \n",
            "  inflating: Grapevine_Leaves_Image_Dataset/Buzgulu/Buzgulu (15).png  \n",
            "  inflating: Grapevine_Leaves_Image_Dataset/Buzgulu/Buzgulu (16).png  \n",
            "  inflating: Grapevine_Leaves_Image_Dataset/Buzgulu/Buzgulu (17).png  \n",
            "  inflating: Grapevine_Leaves_Image_Dataset/Buzgulu/Buzgulu (18).png  \n",
            "  inflating: Grapevine_Leaves_Image_Dataset/Buzgulu/Buzgulu (19).png  \n",
            "  inflating: Grapevine_Leaves_Image_Dataset/Buzgulu/Buzgulu (2).png  \n",
            "  inflating: Grapevine_Leaves_Image_Dataset/Buzgulu/Buzgulu (20).png  \n",
            "  inflating: Grapevine_Leaves_Image_Dataset/Buzgulu/Buzgulu (21).png  \n",
            "  inflating: Grapevine_Leaves_Image_Dataset/Buzgulu/Buzgulu (22).png  \n",
            "  inflating: Grapevine_Leaves_Image_Dataset/Buzgulu/Buzgulu (23).png  \n",
            "  inflating: Grapevine_Leaves_Image_Dataset/Buzgulu/Buzgulu (24).png  \n",
            "  inflating: Grapevine_Leaves_Image_Dataset/Buzgulu/Buzgulu (25).png  \n",
            "  inflating: Grapevine_Leaves_Image_Dataset/Buzgulu/Buzgulu (26).png  \n",
            "  inflating: Grapevine_Leaves_Image_Dataset/Buzgulu/Buzgulu (27).png  \n",
            "  inflating: Grapevine_Leaves_Image_Dataset/Buzgulu/Buzgulu (28).png  \n",
            "  inflating: Grapevine_Leaves_Image_Dataset/Buzgulu/Buzgulu (29).png  \n",
            "  inflating: Grapevine_Leaves_Image_Dataset/Buzgulu/Buzgulu (3).png  \n",
            "  inflating: Grapevine_Leaves_Image_Dataset/Buzgulu/Buzgulu (30).png  \n",
            "  inflating: Grapevine_Leaves_Image_Dataset/Buzgulu/Buzgulu (31).png  \n",
            "  inflating: Grapevine_Leaves_Image_Dataset/Buzgulu/Buzgulu (32).png  \n",
            "  inflating: Grapevine_Leaves_Image_Dataset/Buzgulu/Buzgulu (33).png  \n",
            "  inflating: Grapevine_Leaves_Image_Dataset/Buzgulu/Buzgulu (34).png  \n",
            "  inflating: Grapevine_Leaves_Image_Dataset/Buzgulu/Buzgulu (35).png  \n",
            "  inflating: Grapevine_Leaves_Image_Dataset/Buzgulu/Buzgulu (36).png  \n",
            "  inflating: Grapevine_Leaves_Image_Dataset/Buzgulu/Buzgulu (37).png  \n",
            "  inflating: Grapevine_Leaves_Image_Dataset/Buzgulu/Buzgulu (38).png  \n",
            "  inflating: Grapevine_Leaves_Image_Dataset/Buzgulu/Buzgulu (39).png  \n",
            "  inflating: Grapevine_Leaves_Image_Dataset/Buzgulu/Buzgulu (4).png  \n",
            "  inflating: Grapevine_Leaves_Image_Dataset/Buzgulu/Buzgulu (40).png  \n",
            "  inflating: Grapevine_Leaves_Image_Dataset/Buzgulu/Buzgulu (41).png  \n",
            "  inflating: Grapevine_Leaves_Image_Dataset/Buzgulu/Buzgulu (42).png  \n",
            "  inflating: Grapevine_Leaves_Image_Dataset/Buzgulu/Buzgulu (43).png  \n",
            "  inflating: Grapevine_Leaves_Image_Dataset/Buzgulu/Buzgulu (44).png  \n",
            "  inflating: Grapevine_Leaves_Image_Dataset/Buzgulu/Buzgulu (45).png  \n",
            "  inflating: Grapevine_Leaves_Image_Dataset/Buzgulu/Buzgulu (46).png  \n",
            "  inflating: Grapevine_Leaves_Image_Dataset/Buzgulu/Buzgulu (47).png  \n",
            "  inflating: Grapevine_Leaves_Image_Dataset/Buzgulu/Buzgulu (48).png  \n",
            "  inflating: Grapevine_Leaves_Image_Dataset/Buzgulu/Buzgulu (49).png  \n",
            "  inflating: Grapevine_Leaves_Image_Dataset/Buzgulu/Buzgulu (5).png  \n",
            "  inflating: Grapevine_Leaves_Image_Dataset/Buzgulu/Buzgulu (50).png  \n",
            "  inflating: Grapevine_Leaves_Image_Dataset/Buzgulu/Buzgulu (51).png  \n",
            "  inflating: Grapevine_Leaves_Image_Dataset/Buzgulu/Buzgulu (52).png  \n",
            "  inflating: Grapevine_Leaves_Image_Dataset/Buzgulu/Buzgulu (53).png  \n",
            "  inflating: Grapevine_Leaves_Image_Dataset/Buzgulu/Buzgulu (54).png  \n",
            "  inflating: Grapevine_Leaves_Image_Dataset/Buzgulu/Buzgulu (55).png  \n",
            "  inflating: Grapevine_Leaves_Image_Dataset/Buzgulu/Buzgulu (56).png  \n",
            "  inflating: Grapevine_Leaves_Image_Dataset/Buzgulu/Buzgulu (57).png  \n",
            "  inflating: Grapevine_Leaves_Image_Dataset/Buzgulu/Buzgulu (58).png  \n",
            "  inflating: Grapevine_Leaves_Image_Dataset/Buzgulu/Buzgulu (59).png  \n",
            "  inflating: Grapevine_Leaves_Image_Dataset/Buzgulu/Buzgulu (6).png  \n",
            "  inflating: Grapevine_Leaves_Image_Dataset/Buzgulu/Buzgulu (60).png  \n",
            "  inflating: Grapevine_Leaves_Image_Dataset/Buzgulu/Buzgulu (61).png  \n",
            "  inflating: Grapevine_Leaves_Image_Dataset/Buzgulu/Buzgulu (62).png  \n",
            "  inflating: Grapevine_Leaves_Image_Dataset/Buzgulu/Buzgulu (63).png  \n",
            "  inflating: Grapevine_Leaves_Image_Dataset/Buzgulu/Buzgulu (64).png  \n",
            "  inflating: Grapevine_Leaves_Image_Dataset/Buzgulu/Buzgulu (65).png  \n",
            "  inflating: Grapevine_Leaves_Image_Dataset/Buzgulu/Buzgulu (66).png  \n",
            "  inflating: Grapevine_Leaves_Image_Dataset/Buzgulu/Buzgulu (67).png  \n",
            "  inflating: Grapevine_Leaves_Image_Dataset/Buzgulu/Buzgulu (68).png  \n",
            "  inflating: Grapevine_Leaves_Image_Dataset/Buzgulu/Buzgulu (69).png  \n",
            "  inflating: Grapevine_Leaves_Image_Dataset/Buzgulu/Buzgulu (7).png  \n",
            "  inflating: Grapevine_Leaves_Image_Dataset/Buzgulu/Buzgulu (70).png  \n",
            "  inflating: Grapevine_Leaves_Image_Dataset/Buzgulu/Buzgulu (71).png  \n",
            "  inflating: Grapevine_Leaves_Image_Dataset/Buzgulu/Buzgulu (72).png  \n",
            "  inflating: Grapevine_Leaves_Image_Dataset/Buzgulu/Buzgulu (73).png  \n",
            "  inflating: Grapevine_Leaves_Image_Dataset/Buzgulu/Buzgulu (74).png  \n",
            "  inflating: Grapevine_Leaves_Image_Dataset/Buzgulu/Buzgulu (75).png  \n",
            "  inflating: Grapevine_Leaves_Image_Dataset/Buzgulu/Buzgulu (76).png  \n",
            "  inflating: Grapevine_Leaves_Image_Dataset/Buzgulu/Buzgulu (77).png  \n",
            "  inflating: Grapevine_Leaves_Image_Dataset/Buzgulu/Buzgulu (78).png  \n",
            "  inflating: Grapevine_Leaves_Image_Dataset/Buzgulu/Buzgulu (79).png  \n",
            "  inflating: Grapevine_Leaves_Image_Dataset/Buzgulu/Buzgulu (8).png  \n",
            "  inflating: Grapevine_Leaves_Image_Dataset/Buzgulu/Buzgulu (80).png  \n",
            "  inflating: Grapevine_Leaves_Image_Dataset/Buzgulu/Buzgulu (81).png  \n",
            "  inflating: Grapevine_Leaves_Image_Dataset/Buzgulu/Buzgulu (82).png  \n",
            "  inflating: Grapevine_Leaves_Image_Dataset/Buzgulu/Buzgulu (83).png  \n",
            "  inflating: Grapevine_Leaves_Image_Dataset/Buzgulu/Buzgulu (84).png  \n",
            "  inflating: Grapevine_Leaves_Image_Dataset/Buzgulu/Buzgulu (85).png  \n",
            "  inflating: Grapevine_Leaves_Image_Dataset/Buzgulu/Buzgulu (86).png  \n",
            "  inflating: Grapevine_Leaves_Image_Dataset/Buzgulu/Buzgulu (87).png  \n",
            "  inflating: Grapevine_Leaves_Image_Dataset/Buzgulu/Buzgulu (88).png  \n",
            "  inflating: Grapevine_Leaves_Image_Dataset/Buzgulu/Buzgulu (89).png  \n",
            "  inflating: Grapevine_Leaves_Image_Dataset/Buzgulu/Buzgulu (9).png  \n",
            "  inflating: Grapevine_Leaves_Image_Dataset/Buzgulu/Buzgulu (90).png  \n",
            "  inflating: Grapevine_Leaves_Image_Dataset/Buzgulu/Buzgulu (91).png  \n",
            "  inflating: Grapevine_Leaves_Image_Dataset/Buzgulu/Buzgulu (92).png  \n",
            "  inflating: Grapevine_Leaves_Image_Dataset/Buzgulu/Buzgulu (93).png  \n",
            "  inflating: Grapevine_Leaves_Image_Dataset/Buzgulu/Buzgulu (94).png  \n",
            "  inflating: Grapevine_Leaves_Image_Dataset/Buzgulu/Buzgulu (95).png  \n",
            "  inflating: Grapevine_Leaves_Image_Dataset/Buzgulu/Buzgulu (96).png  \n",
            "  inflating: Grapevine_Leaves_Image_Dataset/Buzgulu/Buzgulu (97).png  \n",
            "  inflating: Grapevine_Leaves_Image_Dataset/Buzgulu/Buzgulu (98).png  \n",
            "  inflating: Grapevine_Leaves_Image_Dataset/Buzgulu/Buzgulu (99).png  \n",
            "  inflating: Grapevine_Leaves_Image_Dataset/Dimnit/Dimnit (1).png  \n",
            "  inflating: Grapevine_Leaves_Image_Dataset/Dimnit/Dimnit (10).png  \n",
            "  inflating: Grapevine_Leaves_Image_Dataset/Dimnit/Dimnit (100).png  \n",
            "  inflating: Grapevine_Leaves_Image_Dataset/Dimnit/Dimnit (11).png  \n",
            "  inflating: Grapevine_Leaves_Image_Dataset/Dimnit/Dimnit (12).png  \n",
            "  inflating: Grapevine_Leaves_Image_Dataset/Dimnit/Dimnit (13).png  \n",
            "  inflating: Grapevine_Leaves_Image_Dataset/Dimnit/Dimnit (14).png  \n",
            "  inflating: Grapevine_Leaves_Image_Dataset/Dimnit/Dimnit (15).png  \n",
            "  inflating: Grapevine_Leaves_Image_Dataset/Dimnit/Dimnit (16).png  \n",
            "  inflating: Grapevine_Leaves_Image_Dataset/Dimnit/Dimnit (17).png  \n",
            "  inflating: Grapevine_Leaves_Image_Dataset/Dimnit/Dimnit (18).png  \n",
            "  inflating: Grapevine_Leaves_Image_Dataset/Dimnit/Dimnit (19).png  \n",
            "  inflating: Grapevine_Leaves_Image_Dataset/Dimnit/Dimnit (2).png  \n",
            "  inflating: Grapevine_Leaves_Image_Dataset/Dimnit/Dimnit (20).png  \n",
            "  inflating: Grapevine_Leaves_Image_Dataset/Dimnit/Dimnit (21).png  \n",
            "  inflating: Grapevine_Leaves_Image_Dataset/Dimnit/Dimnit (22).png  \n",
            "  inflating: Grapevine_Leaves_Image_Dataset/Dimnit/Dimnit (23).png  \n",
            "  inflating: Grapevine_Leaves_Image_Dataset/Dimnit/Dimnit (24).png  \n",
            "  inflating: Grapevine_Leaves_Image_Dataset/Dimnit/Dimnit (25).png  \n",
            "  inflating: Grapevine_Leaves_Image_Dataset/Dimnit/Dimnit (26).png  \n",
            "  inflating: Grapevine_Leaves_Image_Dataset/Dimnit/Dimnit (27).png  \n",
            "  inflating: Grapevine_Leaves_Image_Dataset/Dimnit/Dimnit (28).png  \n",
            "  inflating: Grapevine_Leaves_Image_Dataset/Dimnit/Dimnit (29).png  \n",
            "  inflating: Grapevine_Leaves_Image_Dataset/Dimnit/Dimnit (3).png  \n",
            "  inflating: Grapevine_Leaves_Image_Dataset/Dimnit/Dimnit (30).png  \n",
            "  inflating: Grapevine_Leaves_Image_Dataset/Dimnit/Dimnit (31).png  \n",
            "  inflating: Grapevine_Leaves_Image_Dataset/Dimnit/Dimnit (32).png  \n",
            "  inflating: Grapevine_Leaves_Image_Dataset/Dimnit/Dimnit (33).png  \n",
            "  inflating: Grapevine_Leaves_Image_Dataset/Dimnit/Dimnit (34).png  \n",
            "  inflating: Grapevine_Leaves_Image_Dataset/Dimnit/Dimnit (35).png  \n",
            "  inflating: Grapevine_Leaves_Image_Dataset/Dimnit/Dimnit (36).png  \n",
            "  inflating: Grapevine_Leaves_Image_Dataset/Dimnit/Dimnit (37).png  \n",
            "  inflating: Grapevine_Leaves_Image_Dataset/Dimnit/Dimnit (38).png  \n",
            "  inflating: Grapevine_Leaves_Image_Dataset/Dimnit/Dimnit (39).png  \n",
            "  inflating: Grapevine_Leaves_Image_Dataset/Dimnit/Dimnit (4).png  \n",
            "  inflating: Grapevine_Leaves_Image_Dataset/Dimnit/Dimnit (40).png  \n",
            "  inflating: Grapevine_Leaves_Image_Dataset/Dimnit/Dimnit (41).png  \n",
            "  inflating: Grapevine_Leaves_Image_Dataset/Dimnit/Dimnit (42).png  \n",
            "  inflating: Grapevine_Leaves_Image_Dataset/Dimnit/Dimnit (43).png  \n",
            "  inflating: Grapevine_Leaves_Image_Dataset/Dimnit/Dimnit (44).png  \n",
            "  inflating: Grapevine_Leaves_Image_Dataset/Dimnit/Dimnit (45).png  \n",
            "  inflating: Grapevine_Leaves_Image_Dataset/Dimnit/Dimnit (46).png  \n",
            "  inflating: Grapevine_Leaves_Image_Dataset/Dimnit/Dimnit (47).png  \n",
            "  inflating: Grapevine_Leaves_Image_Dataset/Dimnit/Dimnit (48).png  \n",
            "  inflating: Grapevine_Leaves_Image_Dataset/Dimnit/Dimnit (49).png  \n",
            "  inflating: Grapevine_Leaves_Image_Dataset/Dimnit/Dimnit (5).png  \n",
            "  inflating: Grapevine_Leaves_Image_Dataset/Dimnit/Dimnit (50).png  \n",
            "  inflating: Grapevine_Leaves_Image_Dataset/Dimnit/Dimnit (51).png  \n",
            "  inflating: Grapevine_Leaves_Image_Dataset/Dimnit/Dimnit (52).png  \n",
            "  inflating: Grapevine_Leaves_Image_Dataset/Dimnit/Dimnit (53).png  \n",
            "  inflating: Grapevine_Leaves_Image_Dataset/Dimnit/Dimnit (54).png  \n",
            "  inflating: Grapevine_Leaves_Image_Dataset/Dimnit/Dimnit (55).png  \n",
            "  inflating: Grapevine_Leaves_Image_Dataset/Dimnit/Dimnit (56).png  \n",
            "  inflating: Grapevine_Leaves_Image_Dataset/Dimnit/Dimnit (57).png  \n",
            "  inflating: Grapevine_Leaves_Image_Dataset/Dimnit/Dimnit (58).png  \n",
            "  inflating: Grapevine_Leaves_Image_Dataset/Dimnit/Dimnit (59).png  \n",
            "  inflating: Grapevine_Leaves_Image_Dataset/Dimnit/Dimnit (6).png  \n",
            "  inflating: Grapevine_Leaves_Image_Dataset/Dimnit/Dimnit (60).png  \n",
            "  inflating: Grapevine_Leaves_Image_Dataset/Dimnit/Dimnit (61).png  \n",
            "  inflating: Grapevine_Leaves_Image_Dataset/Dimnit/Dimnit (62).png  \n",
            "  inflating: Grapevine_Leaves_Image_Dataset/Dimnit/Dimnit (63).png  \n",
            "  inflating: Grapevine_Leaves_Image_Dataset/Dimnit/Dimnit (64).png  \n",
            "  inflating: Grapevine_Leaves_Image_Dataset/Dimnit/Dimnit (65).png  \n",
            "  inflating: Grapevine_Leaves_Image_Dataset/Dimnit/Dimnit (66).png  \n",
            "  inflating: Grapevine_Leaves_Image_Dataset/Dimnit/Dimnit (67).png  \n",
            "  inflating: Grapevine_Leaves_Image_Dataset/Dimnit/Dimnit (68).png  \n",
            "  inflating: Grapevine_Leaves_Image_Dataset/Dimnit/Dimnit (69).png  \n",
            "  inflating: Grapevine_Leaves_Image_Dataset/Dimnit/Dimnit (7).png  \n",
            "  inflating: Grapevine_Leaves_Image_Dataset/Dimnit/Dimnit (70).png  \n",
            "  inflating: Grapevine_Leaves_Image_Dataset/Dimnit/Dimnit (71).png  \n",
            "  inflating: Grapevine_Leaves_Image_Dataset/Dimnit/Dimnit (72).png  \n",
            "  inflating: Grapevine_Leaves_Image_Dataset/Dimnit/Dimnit (73).png  \n",
            "  inflating: Grapevine_Leaves_Image_Dataset/Dimnit/Dimnit (74).png  \n",
            "  inflating: Grapevine_Leaves_Image_Dataset/Dimnit/Dimnit (75).png  \n",
            "  inflating: Grapevine_Leaves_Image_Dataset/Dimnit/Dimnit (76).png  \n",
            "  inflating: Grapevine_Leaves_Image_Dataset/Dimnit/Dimnit (77).png  \n",
            "  inflating: Grapevine_Leaves_Image_Dataset/Dimnit/Dimnit (78).png  \n",
            "  inflating: Grapevine_Leaves_Image_Dataset/Dimnit/Dimnit (79).png  \n",
            "  inflating: Grapevine_Leaves_Image_Dataset/Dimnit/Dimnit (8).png  \n",
            "  inflating: Grapevine_Leaves_Image_Dataset/Dimnit/Dimnit (80).png  \n",
            "  inflating: Grapevine_Leaves_Image_Dataset/Dimnit/Dimnit (81).png  \n",
            "  inflating: Grapevine_Leaves_Image_Dataset/Dimnit/Dimnit (82).png  \n",
            "  inflating: Grapevine_Leaves_Image_Dataset/Dimnit/Dimnit (83).png  \n",
            "  inflating: Grapevine_Leaves_Image_Dataset/Dimnit/Dimnit (84).png  \n",
            "  inflating: Grapevine_Leaves_Image_Dataset/Dimnit/Dimnit (85).png  \n",
            "  inflating: Grapevine_Leaves_Image_Dataset/Dimnit/Dimnit (86).png  \n",
            "  inflating: Grapevine_Leaves_Image_Dataset/Dimnit/Dimnit (87).png  \n",
            "  inflating: Grapevine_Leaves_Image_Dataset/Dimnit/Dimnit (88).png  \n",
            "  inflating: Grapevine_Leaves_Image_Dataset/Dimnit/Dimnit (89).png  \n",
            "  inflating: Grapevine_Leaves_Image_Dataset/Dimnit/Dimnit (9).png  \n",
            "  inflating: Grapevine_Leaves_Image_Dataset/Dimnit/Dimnit (90).png  \n",
            "  inflating: Grapevine_Leaves_Image_Dataset/Dimnit/Dimnit (91).png  \n",
            "  inflating: Grapevine_Leaves_Image_Dataset/Dimnit/Dimnit (92).png  \n",
            "  inflating: Grapevine_Leaves_Image_Dataset/Dimnit/Dimnit (93).png  \n",
            "  inflating: Grapevine_Leaves_Image_Dataset/Dimnit/Dimnit (94).png  \n",
            "  inflating: Grapevine_Leaves_Image_Dataset/Dimnit/Dimnit (95).png  \n",
            "  inflating: Grapevine_Leaves_Image_Dataset/Dimnit/Dimnit (96).png  \n",
            "  inflating: Grapevine_Leaves_Image_Dataset/Dimnit/Dimnit (97).png  \n",
            "  inflating: Grapevine_Leaves_Image_Dataset/Dimnit/Dimnit (98).png  \n",
            "  inflating: Grapevine_Leaves_Image_Dataset/Dimnit/Dimnit (99).png  \n",
            "  inflating: Grapevine_Leaves_Image_Dataset/Grapevine_Leaves_Image_Dataset_Citation_Request.txt  \n",
            "  inflating: Grapevine_Leaves_Image_Dataset/Nazli/Nazli (1).png  \n",
            "  inflating: Grapevine_Leaves_Image_Dataset/Nazli/Nazli (10).png  \n",
            "  inflating: Grapevine_Leaves_Image_Dataset/Nazli/Nazli (100).png  \n",
            "  inflating: Grapevine_Leaves_Image_Dataset/Nazli/Nazli (11).png  \n",
            "  inflating: Grapevine_Leaves_Image_Dataset/Nazli/Nazli (12).png  \n",
            "  inflating: Grapevine_Leaves_Image_Dataset/Nazli/Nazli (13).png  \n",
            "  inflating: Grapevine_Leaves_Image_Dataset/Nazli/Nazli (14).png  \n",
            "  inflating: Grapevine_Leaves_Image_Dataset/Nazli/Nazli (15).png  \n",
            "  inflating: Grapevine_Leaves_Image_Dataset/Nazli/Nazli (16).png  \n",
            "  inflating: Grapevine_Leaves_Image_Dataset/Nazli/Nazli (17).png  \n",
            "  inflating: Grapevine_Leaves_Image_Dataset/Nazli/Nazli (18).png  \n",
            "  inflating: Grapevine_Leaves_Image_Dataset/Nazli/Nazli (19).png  \n",
            "  inflating: Grapevine_Leaves_Image_Dataset/Nazli/Nazli (2).png  \n",
            "  inflating: Grapevine_Leaves_Image_Dataset/Nazli/Nazli (20).png  \n",
            "  inflating: Grapevine_Leaves_Image_Dataset/Nazli/Nazli (21).png  \n",
            "  inflating: Grapevine_Leaves_Image_Dataset/Nazli/Nazli (22).png  \n",
            "  inflating: Grapevine_Leaves_Image_Dataset/Nazli/Nazli (23).png  \n",
            "  inflating: Grapevine_Leaves_Image_Dataset/Nazli/Nazli (24).png  \n",
            "  inflating: Grapevine_Leaves_Image_Dataset/Nazli/Nazli (25).png  \n",
            "  inflating: Grapevine_Leaves_Image_Dataset/Nazli/Nazli (26).png  \n",
            "  inflating: Grapevine_Leaves_Image_Dataset/Nazli/Nazli (27).png  \n",
            "  inflating: Grapevine_Leaves_Image_Dataset/Nazli/Nazli (28).png  \n",
            "  inflating: Grapevine_Leaves_Image_Dataset/Nazli/Nazli (29).png  \n",
            "  inflating: Grapevine_Leaves_Image_Dataset/Nazli/Nazli (3).png  \n",
            "  inflating: Grapevine_Leaves_Image_Dataset/Nazli/Nazli (30).png  \n",
            "  inflating: Grapevine_Leaves_Image_Dataset/Nazli/Nazli (31).png  \n",
            "  inflating: Grapevine_Leaves_Image_Dataset/Nazli/Nazli (32).png  \n",
            "  inflating: Grapevine_Leaves_Image_Dataset/Nazli/Nazli (33).png  \n",
            "  inflating: Grapevine_Leaves_Image_Dataset/Nazli/Nazli (34).png  \n",
            "  inflating: Grapevine_Leaves_Image_Dataset/Nazli/Nazli (35).png  \n",
            "  inflating: Grapevine_Leaves_Image_Dataset/Nazli/Nazli (36).png  \n",
            "  inflating: Grapevine_Leaves_Image_Dataset/Nazli/Nazli (37).png  \n",
            "  inflating: Grapevine_Leaves_Image_Dataset/Nazli/Nazli (38).png  \n",
            "  inflating: Grapevine_Leaves_Image_Dataset/Nazli/Nazli (39).png  \n",
            "  inflating: Grapevine_Leaves_Image_Dataset/Nazli/Nazli (4).png  \n",
            "  inflating: Grapevine_Leaves_Image_Dataset/Nazli/Nazli (40).png  \n",
            "  inflating: Grapevine_Leaves_Image_Dataset/Nazli/Nazli (41).png  \n",
            "  inflating: Grapevine_Leaves_Image_Dataset/Nazli/Nazli (42).png  \n",
            "  inflating: Grapevine_Leaves_Image_Dataset/Nazli/Nazli (43).png  \n",
            "  inflating: Grapevine_Leaves_Image_Dataset/Nazli/Nazli (44).png  \n",
            "  inflating: Grapevine_Leaves_Image_Dataset/Nazli/Nazli (45).png  \n",
            "  inflating: Grapevine_Leaves_Image_Dataset/Nazli/Nazli (46).png  \n",
            "  inflating: Grapevine_Leaves_Image_Dataset/Nazli/Nazli (47).png  \n",
            "  inflating: Grapevine_Leaves_Image_Dataset/Nazli/Nazli (48).png  \n",
            "  inflating: Grapevine_Leaves_Image_Dataset/Nazli/Nazli (49).png  \n",
            "  inflating: Grapevine_Leaves_Image_Dataset/Nazli/Nazli (5).png  \n",
            "  inflating: Grapevine_Leaves_Image_Dataset/Nazli/Nazli (50).png  \n",
            "  inflating: Grapevine_Leaves_Image_Dataset/Nazli/Nazli (51).png  \n",
            "  inflating: Grapevine_Leaves_Image_Dataset/Nazli/Nazli (52).png  \n",
            "  inflating: Grapevine_Leaves_Image_Dataset/Nazli/Nazli (53).png  \n",
            "  inflating: Grapevine_Leaves_Image_Dataset/Nazli/Nazli (54).png  \n",
            "  inflating: Grapevine_Leaves_Image_Dataset/Nazli/Nazli (55).png  \n",
            "  inflating: Grapevine_Leaves_Image_Dataset/Nazli/Nazli (56).png  \n",
            "  inflating: Grapevine_Leaves_Image_Dataset/Nazli/Nazli (57).png  \n",
            "  inflating: Grapevine_Leaves_Image_Dataset/Nazli/Nazli (58).png  \n",
            "  inflating: Grapevine_Leaves_Image_Dataset/Nazli/Nazli (59).png  \n",
            "  inflating: Grapevine_Leaves_Image_Dataset/Nazli/Nazli (6).png  \n",
            "  inflating: Grapevine_Leaves_Image_Dataset/Nazli/Nazli (60).png  \n",
            "  inflating: Grapevine_Leaves_Image_Dataset/Nazli/Nazli (61).png  \n",
            "  inflating: Grapevine_Leaves_Image_Dataset/Nazli/Nazli (62).png  \n",
            "  inflating: Grapevine_Leaves_Image_Dataset/Nazli/Nazli (63).png  \n",
            "  inflating: Grapevine_Leaves_Image_Dataset/Nazli/Nazli (64).png  \n",
            "  inflating: Grapevine_Leaves_Image_Dataset/Nazli/Nazli (65).png  \n",
            "  inflating: Grapevine_Leaves_Image_Dataset/Nazli/Nazli (66).png  \n",
            "  inflating: Grapevine_Leaves_Image_Dataset/Nazli/Nazli (67).png  \n",
            "  inflating: Grapevine_Leaves_Image_Dataset/Nazli/Nazli (68).png  \n",
            "  inflating: Grapevine_Leaves_Image_Dataset/Nazli/Nazli (69).png  \n",
            "  inflating: Grapevine_Leaves_Image_Dataset/Nazli/Nazli (7).png  \n",
            "  inflating: Grapevine_Leaves_Image_Dataset/Nazli/Nazli (70).png  \n",
            "  inflating: Grapevine_Leaves_Image_Dataset/Nazli/Nazli (71).png  \n",
            "  inflating: Grapevine_Leaves_Image_Dataset/Nazli/Nazli (72).png  \n",
            "  inflating: Grapevine_Leaves_Image_Dataset/Nazli/Nazli (73).png  \n",
            "  inflating: Grapevine_Leaves_Image_Dataset/Nazli/Nazli (74).png  \n",
            "  inflating: Grapevine_Leaves_Image_Dataset/Nazli/Nazli (75).png  \n",
            "  inflating: Grapevine_Leaves_Image_Dataset/Nazli/Nazli (76).png  \n",
            "  inflating: Grapevine_Leaves_Image_Dataset/Nazli/Nazli (77).png  \n",
            "  inflating: Grapevine_Leaves_Image_Dataset/Nazli/Nazli (78).png  \n",
            "  inflating: Grapevine_Leaves_Image_Dataset/Nazli/Nazli (79).png  \n",
            "  inflating: Grapevine_Leaves_Image_Dataset/Nazli/Nazli (8).png  \n",
            "  inflating: Grapevine_Leaves_Image_Dataset/Nazli/Nazli (80).png  \n",
            "  inflating: Grapevine_Leaves_Image_Dataset/Nazli/Nazli (81).png  \n",
            "  inflating: Grapevine_Leaves_Image_Dataset/Nazli/Nazli (82).png  \n",
            "  inflating: Grapevine_Leaves_Image_Dataset/Nazli/Nazli (83).png  \n",
            "  inflating: Grapevine_Leaves_Image_Dataset/Nazli/Nazli (84).png  \n",
            "  inflating: Grapevine_Leaves_Image_Dataset/Nazli/Nazli (85).png  \n",
            "  inflating: Grapevine_Leaves_Image_Dataset/Nazli/Nazli (86).png  \n",
            "  inflating: Grapevine_Leaves_Image_Dataset/Nazli/Nazli (87).png  \n",
            "  inflating: Grapevine_Leaves_Image_Dataset/Nazli/Nazli (88).png  \n",
            "  inflating: Grapevine_Leaves_Image_Dataset/Nazli/Nazli (89).png  \n",
            "  inflating: Grapevine_Leaves_Image_Dataset/Nazli/Nazli (9).png  \n",
            "  inflating: Grapevine_Leaves_Image_Dataset/Nazli/Nazli (90).png  \n",
            "  inflating: Grapevine_Leaves_Image_Dataset/Nazli/Nazli (91).png  \n",
            "  inflating: Grapevine_Leaves_Image_Dataset/Nazli/Nazli (92).png  \n",
            "  inflating: Grapevine_Leaves_Image_Dataset/Nazli/Nazli (93).png  \n",
            "  inflating: Grapevine_Leaves_Image_Dataset/Nazli/Nazli (94).png  \n",
            "  inflating: Grapevine_Leaves_Image_Dataset/Nazli/Nazli (95).png  \n",
            "  inflating: Grapevine_Leaves_Image_Dataset/Nazli/Nazli (96).png  \n",
            "  inflating: Grapevine_Leaves_Image_Dataset/Nazli/Nazli (97).png  \n",
            "  inflating: Grapevine_Leaves_Image_Dataset/Nazli/Nazli (98).png  \n",
            "  inflating: Grapevine_Leaves_Image_Dataset/Nazli/Nazli (99).png  \n"
          ]
        }
      ]
    },
    {
      "cell_type": "markdown",
      "source": [
        "#melakukn split dataset"
      ],
      "metadata": {
        "id": "r1jOumslA3j2"
      }
    },
    {
      "cell_type": "code",
      "source": [
        "!pip install split-folders\n",
        "import splitfolders\n",
        "import os\n",
        "\n",
        "# Check the contents of the source directory\n",
        "source_dir = \"Grapevine_Leaves_Image_Dataset\"\n",
        "print(\"List of files and subdirectories in the source directory:\")\n",
        "print(os.listdir(source_dir))\n",
        "\n",
        "output_dir = \"dataset_final\"\n",
        "seed = 1337\n",
        "ratios = (0.8, 0.1, 0.1)\n",
        "\n",
        "splitfolders.ratio(source_dir, output=output_dir, seed=seed, ratio=ratios)"
      ],
      "metadata": {
        "id": "Xzr-1lidBBCy",
        "colab": {
          "base_uri": "https://localhost:8080/"
        },
        "outputId": "1647627d-3230-4b78-9215-24d9f64575dc"
      },
      "execution_count": 17,
      "outputs": [
        {
          "output_type": "stream",
          "name": "stdout",
          "text": [
            "Requirement already satisfied: split-folders in /usr/local/lib/python3.10/dist-packages (0.5.1)\n",
            "List of files and subdirectories in the source directory:\n",
            "['Ala_Idris', 'Dimnit', 'Grapevine_Leaves_Image_Dataset_Citation_Request.txt', 'Nazli', 'Ak', 'Buzgulu']\n"
          ]
        },
        {
          "output_type": "stream",
          "name": "stderr",
          "text": [
            "Copying files: 500 files [00:00, 1673.37 files/s]\n"
          ]
        }
      ]
    },
    {
      "cell_type": "markdown",
      "source": [
        "#image augmentation"
      ],
      "metadata": {
        "id": "6EGw_kNqB_ue"
      }
    },
    {
      "cell_type": "code",
      "source": [
        "train_datagen = ImageDataGenerator(rescale = 1./255,\n",
        "        validation_split = 0.2,\n",
        "        rotation_range=10,\n",
        "        width_shift_range=0.2,\n",
        "        height_shift_range=0.2,\n",
        "        shear_range=0.2,\n",
        "        zoom_range=0.2,\n",
        "        horizontal_flip=True,\n",
        "        vertical_flip=True,\n",
        "        fill_mode='nearest')\n",
        "\n",
        "valid_datagen = ImageDataGenerator(rescale = 1./255,\n",
        "                                  validation_split = 0.2)\n",
        "\n",
        "test_datagen  = ImageDataGenerator(rescale = 1./255\n",
        "                                  )"
      ],
      "metadata": {
        "id": "v4cPCtzHCCyg"
      },
      "execution_count": 18,
      "outputs": []
    },
    {
      "cell_type": "code",
      "source": [
        "train_generator= train_datagen.flow_from_directory(\n",
        "    '/content/dataset_final/train',\n",
        "    target_size=(150,150),\n",
        "    batch_size=32,\n",
        "    class_mode='categorical'\n",
        ")\n",
        "val_generator= train_datagen.flow_from_directory(\n",
        "    '/content/dataset_final/val',\n",
        "    target_size=(150,150),\n",
        "    batch_size=32,\n",
        "    class_mode='categorical'\n",
        ")"
      ],
      "metadata": {
        "id": "34xVNgKsCa9T",
        "colab": {
          "base_uri": "https://localhost:8080/"
        },
        "outputId": "6a28b33d-5ddc-4f31-ee4c-130d90bde6cf"
      },
      "execution_count": 19,
      "outputs": [
        {
          "output_type": "stream",
          "name": "stdout",
          "text": [
            "Found 400 images belonging to 5 classes.\n",
            "Found 50 images belonging to 5 classes.\n"
          ]
        }
      ]
    },
    {
      "cell_type": "code",
      "source": [
        "images, labels = train_generator.next()\n",
        "len(images), len(labels), images[0].shape"
      ],
      "metadata": {
        "id": "AJi1maDOCq_4",
        "colab": {
          "base_uri": "https://localhost:8080/"
        },
        "outputId": "c8f7714d-ad37-4462-8d08-107e02d78fbe"
      },
      "execution_count": 20,
      "outputs": [
        {
          "output_type": "execute_result",
          "data": {
            "text/plain": [
              "(32, 32, (150, 150, 3))"
            ]
          },
          "metadata": {},
          "execution_count": 20
        }
      ]
    },
    {
      "cell_type": "markdown",
      "source": [
        "membuat model CNN dengan sequential"
      ],
      "metadata": {
        "id": "lB4G8B9hCx7d"
      }
    },
    {
      "cell_type": "code",
      "source": [
        "model = Sequential([\n",
        "    # 1. feature extraction layer\n",
        "    Conv2D(32,(3,3), activation = 'relu',padding='same', input_shape = (150,150,3)),\n",
        "    MaxPool2D((2,2),strides=2,padding = 'same'),\n",
        "    Conv2D(64,(3,3), activation = 'relu',padding='same'),\n",
        "    MaxPool2D((2,2),strides=2,padding = 'same'),\n",
        "    Conv2D(128,(3,3), activation = 'relu',padding='same'),\n",
        "    # 2. fully connected layer\n",
        "    Flatten(),\n",
        "    Dense(128, activation = 'relu'),\n",
        "    Dense(5, activation = 'softmax')\n",
        "])\n",
        "\n",
        "model.compile(optimizer = 'adam',\n",
        "              loss = 'categorical_crossentropy',\n",
        "              metrics = ['accuracy'])\n",
        "\n",
        "hist=model.fit(train_generator,epochs=20,\n",
        "          validation_data =val_generator,\n",
        "          verbose=1)"
      ],
      "metadata": {
        "id": "cP4bb4YbCxT7",
        "colab": {
          "base_uri": "https://localhost:8080/"
        },
        "outputId": "048542bb-f54d-4fc5-e20b-202d8faca1a0"
      },
      "execution_count": 21,
      "outputs": [
        {
          "output_type": "stream",
          "name": "stdout",
          "text": [
            "Epoch 1/20\n",
            "13/13 [==============================] - 18s 361ms/step - loss: 2.4099 - accuracy: 0.2025 - val_loss: 1.6148 - val_accuracy: 0.2000\n",
            "Epoch 2/20\n",
            "13/13 [==============================] - 6s 452ms/step - loss: 1.6128 - accuracy: 0.1975 - val_loss: 1.6094 - val_accuracy: 0.2000\n",
            "Epoch 3/20\n",
            "13/13 [==============================] - 5s 347ms/step - loss: 1.6095 - accuracy: 0.2000 - val_loss: 1.6095 - val_accuracy: 0.2000\n",
            "Epoch 4/20\n",
            "13/13 [==============================] - 6s 434ms/step - loss: 1.6095 - accuracy: 0.2000 - val_loss: 1.6095 - val_accuracy: 0.2000\n",
            "Epoch 5/20\n",
            "13/13 [==============================] - 6s 469ms/step - loss: 1.6095 - accuracy: 0.2000 - val_loss: 1.6094 - val_accuracy: 0.2000\n",
            "Epoch 6/20\n",
            "13/13 [==============================] - 4s 340ms/step - loss: 1.6095 - accuracy: 0.2000 - val_loss: 1.6093 - val_accuracy: 0.2000\n",
            "Epoch 7/20\n",
            "13/13 [==============================] - 5s 369ms/step - loss: 1.6095 - accuracy: 0.2000 - val_loss: 1.6092 - val_accuracy: 0.2000\n",
            "Epoch 8/20\n",
            "13/13 [==============================] - 6s 398ms/step - loss: 1.6096 - accuracy: 0.2000 - val_loss: 1.6095 - val_accuracy: 0.2000\n",
            "Epoch 9/20\n",
            "13/13 [==============================] - 5s 348ms/step - loss: 1.6096 - accuracy: 0.2000 - val_loss: 1.6095 - val_accuracy: 0.2000\n",
            "Epoch 10/20\n",
            "13/13 [==============================] - 5s 421ms/step - loss: 1.6097 - accuracy: 0.2000 - val_loss: 1.6094 - val_accuracy: 0.2000\n",
            "Epoch 11/20\n",
            "13/13 [==============================] - 4s 337ms/step - loss: 1.6095 - accuracy: 0.2000 - val_loss: 1.6094 - val_accuracy: 0.2000\n",
            "Epoch 12/20\n",
            "13/13 [==============================] - 4s 340ms/step - loss: 1.6095 - accuracy: 0.2000 - val_loss: 1.6094 - val_accuracy: 0.2000\n",
            "Epoch 13/20\n",
            "13/13 [==============================] - 5s 394ms/step - loss: 1.6096 - accuracy: 0.2000 - val_loss: 1.6095 - val_accuracy: 0.2000\n",
            "Epoch 14/20\n",
            "13/13 [==============================] - 6s 451ms/step - loss: 1.6098 - accuracy: 0.1975 - val_loss: 1.6094 - val_accuracy: 0.2000\n",
            "Epoch 15/20\n",
            "13/13 [==============================] - 5s 344ms/step - loss: 1.6095 - accuracy: 0.2000 - val_loss: 1.6094 - val_accuracy: 0.2000\n",
            "Epoch 16/20\n",
            "13/13 [==============================] - 5s 408ms/step - loss: 1.6095 - accuracy: 0.2000 - val_loss: 1.6095 - val_accuracy: 0.2000\n",
            "Epoch 17/20\n",
            "13/13 [==============================] - 5s 357ms/step - loss: 1.6097 - accuracy: 0.2000 - val_loss: 1.6095 - val_accuracy: 0.2000\n",
            "Epoch 18/20\n",
            "13/13 [==============================] - 4s 341ms/step - loss: 1.6096 - accuracy: 0.2000 - val_loss: 1.6094 - val_accuracy: 0.2000\n",
            "Epoch 19/20\n",
            "13/13 [==============================] - 6s 431ms/step - loss: 1.6095 - accuracy: 0.1675 - val_loss: 1.6094 - val_accuracy: 0.2000\n",
            "Epoch 20/20\n",
            "13/13 [==============================] - 5s 401ms/step - loss: 1.6095 - accuracy: 0.2050 - val_loss: 1.6094 - val_accuracy: 0.2000\n"
          ]
        }
      ]
    },
    {
      "cell_type": "markdown",
      "source": [
        "#akurasi"
      ],
      "metadata": {
        "id": "6l0hrLNDJ5EL"
      }
    },
    {
      "cell_type": "code",
      "source": [
        "model.evaluate(val_generator)"
      ],
      "metadata": {
        "id": "uqUYppoxJ8Ji",
        "colab": {
          "base_uri": "https://localhost:8080/"
        },
        "outputId": "af7378e1-340a-42f4-e2bc-bb058ad1d319"
      },
      "execution_count": 22,
      "outputs": [
        {
          "output_type": "stream",
          "name": "stdout",
          "text": [
            "2/2 [==============================] - 1s 200ms/step - loss: 1.6094 - accuracy: 0.2000\n"
          ]
        },
        {
          "output_type": "execute_result",
          "data": {
            "text/plain": [
              "[1.6094489097595215, 0.20000000298023224]"
            ]
          },
          "metadata": {},
          "execution_count": 22
        }
      ]
    },
    {
      "cell_type": "markdown",
      "source": [
        "#grafik"
      ],
      "metadata": {
        "id": "nFs-5vBiJ9Ix"
      }
    },
    {
      "cell_type": "code",
      "source": [
        "def model_performance_graphs():\n",
        "\n",
        "    fig, axes = plt.subplots(1, 2, figsize = (15, 8))\n",
        "\n",
        "    axes[0].plot(hist.epoch, hist.history['accuracy'], label = 'acc')\n",
        "    axes[0].plot(hist.epoch, hist.history['val_accuracy'], label = 'val_acc')\n",
        "    axes[0].set_title('Accuracy vs Epochs', fontsize = 20)\n",
        "    axes[0].set_xlabel('Epochs', fontsize = 15)\n",
        "    axes[0].set_ylabel('Accuracy', fontsize = 15)\n",
        "    axes[0].legend()\n",
        "\n",
        "    axes[1].plot(hist.epoch, hist.history['loss'], label = 'loss')\n",
        "    axes[1].plot(hist.epoch, hist.history['val_loss'], label=\"val_loss\")\n",
        "    axes[1].set_title(\"Loss Curve\",fontsize=18)\n",
        "    axes[1].set_xlabel(\"Epochs\",fontsize=15)\n",
        "    axes[1].set_ylabel(\"Loss\",fontsize=15)\n",
        "    axes[1].legend()\n",
        "\n",
        "    plt.show()\n",
        "\n",
        "model_performance_graphs()"
      ],
      "metadata": {
        "id": "MAhV93EjKC_K",
        "colab": {
          "base_uri": "https://localhost:8080/",
          "height": 650
        },
        "outputId": "7a761edb-d7a3-4435-949e-0ba024c0a2ef"
      },
      "execution_count": 23,
      "outputs": [
        {
          "output_type": "display_data",
          "data": {
            "text/plain": [
              "<Figure size 1500x800 with 2 Axes>"
            ],
            "image/png": "[encoded data removed]"
          },
          "metadata": {}
        }
      ]
    },
    {
      "cell_type": "code",
      "source": [],
      "metadata": {
        "id": "qMdlighkKjFX"
      },
      "execution_count": 23,
      "outputs": []
    }
  ]
}