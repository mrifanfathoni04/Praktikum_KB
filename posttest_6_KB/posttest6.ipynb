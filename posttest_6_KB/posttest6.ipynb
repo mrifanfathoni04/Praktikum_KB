{
 "cells": [
  {
   "cell_type": "markdown",
   "id": "3022ba50",
   "metadata": {},
   "source": [
    "# Nama : Muhammad Rifan Fathoni\n",
    "# NIM : 2209106003\n",
    "# POSTTEST 6"
   ]
  },
  {
   "cell_type": "code",
   "execution_count": 1,
   "id": "ac899c1f",
   "metadata": {},
   "outputs": [],
   "source": [
    "import pandas as pd\n",
    "import numpy as np"
   ]
  },
  {
   "cell_type": "markdown",
   "id": "e9192fb1",
   "metadata": {},
   "source": [
    "Keterangan : \n",
    "-melakukan import library pandas sebagai pd\n",
    "-melakukan import library numpy sebagai np"
   ]
  },
  {
   "cell_type": "code",
   "execution_count": 2,
   "id": "081a97f9",
   "metadata": {},
   "outputs": [],
   "source": [
    "df = pd.read_csv(\"clean_Dataset.csv\")"
   ]
  },
  {
   "cell_type": "markdown",
   "id": "e105d6c6",
   "metadata": {},
   "source": [
    "Keterangan : melakukan import dataset menggunakan fungsi pd.read_csv() bawaan pandas"
   ]
  },
  {
   "cell_type": "code",
   "execution_count": 3,
   "id": "28e39de9",
   "metadata": {},
   "outputs": [
    {
     "name": "stdout",
     "output_type": "stream",
     "text": [
      "<class 'pandas.core.frame.DataFrame'>\n",
      "RangeIndex: 300153 entries, 0 to 300152\n",
      "Data columns (total 10 columns):\n",
      " #   Column            Non-Null Count   Dtype  \n",
      "---  ------            --------------   -----  \n",
      " 0   airline           300153 non-null  object \n",
      " 1   source_city       300153 non-null  object \n",
      " 2   departure_time    300153 non-null  object \n",
      " 3   stops             300153 non-null  object \n",
      " 4   arrival_time      300153 non-null  object \n",
      " 5   destination_city  300153 non-null  object \n",
      " 6   class             300153 non-null  object \n",
      " 7   duration          300153 non-null  float64\n",
      " 8   days_left         300153 non-null  int64  \n",
      " 9   price             300153 non-null  int64  \n",
      "dtypes: float64(1), int64(2), object(7)\n",
      "memory usage: 22.9+ MB\n"
     ]
    }
   ],
   "source": [
    "df = df.drop(columns=['Unnamed: 0'], axis=1)\n",
    "df = df.drop(columns=['flight'], axis=1)\n",
    "df.info()"
   ]
  },
  {
   "cell_type": "markdown",
   "id": "4ef6b3d4",
   "metadata": {},
   "source": [
    "Keterangan : mengahpaus kolom unnmaed:0 dan flight yang tidak berguna"
   ]
  },
  {
   "cell_type": "code",
   "execution_count": 5,
   "id": "fb4a2c96",
   "metadata": {},
   "outputs": [],
   "source": [
    "from sklearn.preprocessing import MinMaxScaler, LabelEncoder"
   ]
  },
  {
   "cell_type": "markdown",
   "id": "d4c55b4d",
   "metadata": {},
   "source": [
    "Keterangan : Melakukan import MixMaxScaler,LabelEncoder dari library sklearn.preprocessing"
   ]
  },
  {
   "cell_type": "code",
   "execution_count": 6,
   "id": "afd6018d",
   "metadata": {},
   "outputs": [],
   "source": [
    "min_max_scaler = MinMaxScaler()\n",
    "df[['duration', 'price', 'days_left']] = min_max_scaler.fit_transform(df[['duration', 'price', 'days_left']])\n",
    "\n",
    "col=['airline','source_city','departure_time','stops', 'arrival_time', 'destination_city', 'class']\n",
    "le=LabelEncoder()\n",
    "for i in col:\n",
    "    df[i]=le.fit_transform(df[i])"
   ]
  },
  {
   "cell_type": "code",
   "execution_count": null,
   "id": "69e4f61d",
   "metadata": {},
   "outputs": [],
   "source": [
    "Keterangan : melakukan Standarisasi dan Normalisasi"
   ]
  },
  {
   "cell_type": "code",
   "execution_count": 7,
   "id": "9a0fc179",
   "metadata": {},
   "outputs": [],
   "source": [
    "from sklearn.model_selection import train_test_split"
   ]
  },
  {
   "cell_type": "markdown",
   "id": "16b677d2",
   "metadata": {},
   "source": [
    "Keterangan : melakukan import library sklearn.model_selection(train_test_split)"
   ]
  },
  {
   "cell_type": "code",
   "execution_count": 8,
   "id": "b98c002e",
   "metadata": {},
   "outputs": [],
   "source": [
    "x = df.drop(['price'], axis=1)\n",
    "y = df['price']\n",
    "\n",
    "X_train, X_test, Y_train, Y_test = train_test_split(x,y, test_size=0.3)"
   ]
  },
  {
   "cell_type": "markdown",
   "id": "f9ffc0d5",
   "metadata": {},
   "source": [
    "Keterangan : melakukan train data dengan test data 30%"
   ]
  },
  {
   "cell_type": "code",
   "execution_count": 9,
   "id": "c21773bb",
   "metadata": {},
   "outputs": [],
   "source": [
    "import tensorflow as tf"
   ]
  },
  {
   "cell_type": "markdown",
   "id": "613a45cc",
   "metadata": {},
   "source": [
    "Keterangan : melakukan import library tensorflow sebagai tf"
   ]
  },
  {
   "cell_type": "code",
   "execution_count": 10,
   "id": "14adcdab",
   "metadata": {},
   "outputs": [],
   "source": [
    "model = tf.keras.models.Sequential([\n",
    "    tf.keras.layers.Input(shape=(9,)),\n",
    "    tf.keras.layers.Dense(64, activation='relu'),\n",
    "    tf.keras.layers.Dense(32, activation='relu'),\n",
    "    tf.keras.layers.Dense(1)\n",
    "])"
   ]
  },
  {
   "cell_type": "markdown",
   "id": "6fa37025",
   "metadata": {},
   "source": [
    "Keterangan : mebuat regresi menggunakan tensorflow"
   ]
  },
  {
   "cell_type": "code",
   "execution_count": 11,
   "id": "5851b16a",
   "metadata": {},
   "outputs": [],
   "source": [
    "model.compile(\n",
    "    optimizer='adam',\n",
    "    loss='mean_squared_error',\n",
    "    metrics=['mean_absolute_error']\n",
    ")"
   ]
  },
  {
   "cell_type": "markdown",
   "id": "a4b8acff",
   "metadata": {},
   "source": [
    "Keterangan : melalukan compile model (mengatur optimizer,loss,metrics)"
   ]
  },
  {
   "cell_type": "code",
   "execution_count": 12,
   "id": "ecb0ee3b",
   "metadata": {},
   "outputs": [
    {
     "name": "stdout",
     "output_type": "stream",
     "text": [
      "Epoch 1/20\n",
      "6566/6566 [==============================] - 28s 4ms/step - loss: 0.0029 - mean_absolute_error: 0.0359 - val_loss: 0.0021 - val_mean_absolute_error: 0.0312\n",
      "Epoch 2/20\n",
      "6566/6566 [==============================] - 26s 4ms/step - loss: 0.0019 - mean_absolute_error: 0.0281 - val_loss: 0.0020 - val_mean_absolute_error: 0.0280\n",
      "Epoch 3/20\n",
      "6566/6566 [==============================] - 27s 4ms/step - loss: 0.0017 - mean_absolute_error: 0.0261 - val_loss: 0.0017 - val_mean_absolute_error: 0.0254\n",
      "Epoch 4/20\n",
      "6566/6566 [==============================] - 26s 4ms/step - loss: 0.0016 - mean_absolute_error: 0.0249 - val_loss: 0.0016 - val_mean_absolute_error: 0.0238\n",
      "Epoch 5/20\n",
      "6566/6566 [==============================] - 26s 4ms/step - loss: 0.0016 - mean_absolute_error: 0.0242 - val_loss: 0.0017 - val_mean_absolute_error: 0.0252\n",
      "Epoch 6/20\n",
      "6566/6566 [==============================] - 26s 4ms/step - loss: 0.0015 - mean_absolute_error: 0.0237 - val_loss: 0.0015 - val_mean_absolute_error: 0.0236\n",
      "Epoch 7/20\n",
      "6566/6566 [==============================] - 27s 4ms/step - loss: 0.0015 - mean_absolute_error: 0.0232 - val_loss: 0.0015 - val_mean_absolute_error: 0.0230\n",
      "Epoch 8/20\n",
      "6566/6566 [==============================] - 27s 4ms/step - loss: 0.0014 - mean_absolute_error: 0.0230 - val_loss: 0.0014 - val_mean_absolute_error: 0.0226\n",
      "Epoch 9/20\n",
      "6566/6566 [==============================] - 26s 4ms/step - loss: 0.0014 - mean_absolute_error: 0.0227 - val_loss: 0.0015 - val_mean_absolute_error: 0.0232\n",
      "Epoch 10/20\n",
      "6566/6566 [==============================] - 26s 4ms/step - loss: 0.0014 - mean_absolute_error: 0.0225 - val_loss: 0.0014 - val_mean_absolute_error: 0.0220\n",
      "Epoch 11/20\n",
      "6566/6566 [==============================] - 26s 4ms/step - loss: 0.0014 - mean_absolute_error: 0.0224 - val_loss: 0.0014 - val_mean_absolute_error: 0.0225\n",
      "Epoch 12/20\n",
      "6566/6566 [==============================] - 26s 4ms/step - loss: 0.0014 - mean_absolute_error: 0.0223 - val_loss: 0.0015 - val_mean_absolute_error: 0.0240\n",
      "Epoch 13/20\n",
      "6566/6566 [==============================] - 26s 4ms/step - loss: 0.0013 - mean_absolute_error: 0.0222 - val_loss: 0.0014 - val_mean_absolute_error: 0.0225\n",
      "Epoch 14/20\n",
      "6566/6566 [==============================] - 26s 4ms/step - loss: 0.0013 - mean_absolute_error: 0.0221 - val_loss: 0.0014 - val_mean_absolute_error: 0.0222\n",
      "Epoch 15/20\n",
      "6566/6566 [==============================] - 26s 4ms/step - loss: 0.0013 - mean_absolute_error: 0.0220 - val_loss: 0.0013 - val_mean_absolute_error: 0.0221\n",
      "Epoch 16/20\n",
      "6566/6566 [==============================] - 26s 4ms/step - loss: 0.0013 - mean_absolute_error: 0.0220 - val_loss: 0.0014 - val_mean_absolute_error: 0.0231\n",
      "Epoch 17/20\n",
      "6566/6566 [==============================] - 26s 4ms/step - loss: 0.0013 - mean_absolute_error: 0.0219 - val_loss: 0.0014 - val_mean_absolute_error: 0.0221\n",
      "Epoch 18/20\n",
      "6566/6566 [==============================] - 26s 4ms/step - loss: 0.0013 - mean_absolute_error: 0.0218 - val_loss: 0.0013 - val_mean_absolute_error: 0.0216\n",
      "Epoch 19/20\n",
      "6566/6566 [==============================] - 26s 4ms/step - loss: 0.0013 - mean_absolute_error: 0.0217 - val_loss: 0.0014 - val_mean_absolute_error: 0.0220\n",
      "Epoch 20/20\n",
      "6566/6566 [==============================] - 26s 4ms/step - loss: 0.0013 - mean_absolute_error: 0.0216 - val_loss: 0.0013 - val_mean_absolute_error: 0.0210\n"
     ]
    }
   ],
   "source": [
    "callback = tf.keras.callbacks.EarlyStopping(monitor='val_mean_absolute_error', patience=10)\n",
    "\n",
    "history = model.fit(\n",
    "    X_train, \n",
    "    Y_train, \n",
    "    epochs=20,\n",
    "    verbose=1, \n",
    "    validation_data=(X_test, Y_test),\n",
    "    callbacks=[callback]\n",
    ")"
   ]
  },
  {
   "cell_type": "markdown",
   "id": "86763ff2",
   "metadata": {},
   "source": [
    "Keterangan : Melakukan training model"
   ]
  },
  {
   "cell_type": "code",
   "execution_count": 13,
   "id": "8c85a776",
   "metadata": {},
   "outputs": [],
   "source": [
    "from sklearn.metrics import mean_absolute_error, mean_squared_error, r2_score"
   ]
  },
  {
   "cell_type": "markdown",
   "id": "ca5ceff7",
   "metadata": {},
   "source": [
    "Keterangan : melakukan import sklearn.metrics (mean_absolute_error,mean_squared_error,r2_score)"
   ]
  },
  {
   "cell_type": "code",
   "execution_count": 14,
   "id": "9f225b51",
   "metadata": {},
   "outputs": [
    {
     "name": "stdout",
     "output_type": "stream",
     "text": [
      "2814/2814 [==============================] - 7s 2ms/step\n",
      "R-squared Score: 0.9637657643362849\n"
     ]
    }
   ],
   "source": [
    "if isinstance(Y_test.iloc[0], (int, float)):  \n",
    "    y_pred = model.predict(X_test)\n",
    "    r2 = r2_score(Y_test, y_pred)\n",
    "    print(\"R-squared Score:\", r2)\n",
    "else:  \n",
    "    y_pred = model.predict(X_test)\n",
    "    y_pred = (y_pred > 0.5).astype(int) \n",
    "    accuracy = accuracy_score(Y_test, y_pred)\n",
    "    print(\"Accuracy:\", accuracy)"
   ]
  },
  {
   "cell_type": "markdown",
   "id": "15240b97",
   "metadata": {},
   "source": [
    "Keterangan : menampilkan prediksi menggunakan model yang telah dilatih"
   ]
  },
  {
   "cell_type": "code",
   "execution_count": 15,
   "id": "6e2a78e0",
   "metadata": {},
   "outputs": [
    {
     "name": "stdout",
     "output_type": "stream",
     "text": [
      "MAE : 0.021026834214223945\n",
      "MSE : 0.001264587926640715\n",
      "RMSE : 0.03556104507239228\n",
      "R-Squared : 0.9637657643362849\n"
     ]
    }
   ],
   "source": [
    "print(\"MAE :\", mean_absolute_error(Y_test, y_pred))\n",
    "print(\"MSE :\", mean_squared_error(Y_test, y_pred))\n",
    "print(\"RMSE :\", np.sqrt(mean_squared_error(Y_test, y_pred)))\n",
    "print(\"R-Squared :\", r2_score(Y_test, y_pred))"
   ]
  },
  {
   "cell_type": "markdown",
   "id": "fb60d949",
   "metadata": {},
   "source": [
    "keterangan : menampilkan nilai MAE,MSE,RMSE,R-Squared menggunakan fungsi bawaan skleaarn.metrics dan numpy(evaluasi model yang sudah dilatih)"
   ]
  },
  {
   "cell_type": "code",
   "execution_count": 16,
   "id": "8c26f5b4",
   "metadata": {},
   "outputs": [],
   "source": [
    "import matplotlib.pyplot as plt"
   ]
  },
  {
   "cell_type": "markdown",
   "id": "76b82412",
   "metadata": {},
   "source": [
    "Keterangan : melakukan import library matplotlib.pyplot sebagai plt"
   ]
  },
  {
   "cell_type": "code",
   "execution_count": 17,
   "id": "c5881846",
   "metadata": {},
   "outputs": [
    {
     "data": {
      "image/png": "[encoded data removed]",
      "text/plain": [
       "<Figure size 1200x400 with 2 Axes>"
      ]
     },
     "metadata": {},
     "output_type": "display_data"
    }
   ],
   "source": [
    "plt.figure(figsize=(12, 4))\n",
    "plt.subplot(1, 2, 1)\n",
    "plt.plot(history.history['mean_absolute_error'], label='Training MAE')\n",
    "plt.plot(history.history['val_mean_absolute_error'], label='Validation MAE')\n",
    "plt.legend(loc='lower right')\n",
    "plt.title('Training and Validation MAE')\n",
    "plt.xlabel('Epochs')\n",
    "plt.ylabel('Accuracy')\n",
    "\n",
    "plt.subplot(1, 2, 2)\n",
    "plt.plot(history.history['loss'], label='Training Loss')\n",
    "plt.plot(history.history['val_loss'], label='Validation Loss')\n",
    "plt.legend(loc='upper right')\n",
    "plt.title('Training and Validation Loss')\n",
    "plt.xlabel('Epochs')\n",
    "plt.ylabel('Loss')\n",
    "\n",
    "plt.show()"
   ]
  },
  {
   "cell_type": "markdown",
   "id": "f58331c0",
   "metadata": {},
   "source": [
    "Keterangan : menampilkan plot hasil prediksi"
   ]
  }
 ],
 "metadata": {
  "kernelspec": {
   "display_name": "Python 3 (ipykernel)",
   "language": "python",
   "name": "python3"
  },
  "language_info": {
   "codemirror_mode": {
    "name": "ipython",
    "version": 3
   },
   "file_extension": ".py",
   "mimetype": "text/x-python",
   "name": "python",
   "nbconvert_exporter": "python",
   "pygments_lexer": "ipython3",
   "version": "3.10.7"
  }
 },
 "nbformat": 4,
 "nbformat_minor": 5
}
